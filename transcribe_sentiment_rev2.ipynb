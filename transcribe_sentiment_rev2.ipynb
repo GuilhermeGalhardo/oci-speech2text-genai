{
 "cells": [
  {
   "cell_type": "markdown",
   "id": "172d1d43-c155-4680-818a-32989bed9891",
   "metadata": {
    "jupyter": {
     "source_hidden": true
    },
    "tags": []
   },
   "source": [
    "### OCI Data Science - Useful Tips\n",
    "<details>\n",
    "<summary><font size=\"2\">Check for Public Internet Access</font></summary>\n",
    "\n",
    "```python\n",
    "import requests\n",
    "response = requests.get(\"https://oracle.com\")\n",
    "assert response.status_code==200, \"Internet connection failed\"\n",
    "```\n",
    "</details>\n",
    "<details>\n",
    "<summary><font size=\"2\">Helpful Documentation </font></summary>\n",
    "<ul><li><a href=\"https://docs.cloud.oracle.com/en-us/iaas/data-science/using/data-science.htm\">Data Science Service Documentation</a></li>\n",
    "<li><a href=\"https://docs.cloud.oracle.com/iaas/tools/ads-sdk/latest/index.html\">ADS documentation</a></li>\n",
    "</ul>\n",
    "</details>\n",
    "<details>\n",
    "<summary><font size=\"2\">Typical Cell Imports and Settings for ADS</font></summary>\n",
    "\n",
    "```python\n",
    "%load_ext autoreload\n",
    "%autoreload 2\n",
    "%matplotlib inline\n",
    "\n",
    "import warnings\n",
    "warnings.filterwarnings('ignore')\n",
    "\n",
    "import logging\n",
    "logging.basicConfig(format='%(levelname)s:%(message)s', level=logging.ERROR)\n",
    "\n",
    "import ads\n",
    "from ads.dataset.factory import DatasetFactory\n",
    "from ads.automl.provider import OracleAutoMLProvider\n",
    "from ads.automl.driver import AutoML\n",
    "from ads.evaluations.evaluator import ADSEvaluator\n",
    "from ads.common.data import ADSData\n",
    "from ads.explanations.explainer import ADSExplainer\n",
    "from ads.explanations.mlx_global_explainer import MLXGlobalExplainer\n",
    "from ads.explanations.mlx_local_explainer import MLXLocalExplainer\n",
    "from ads.catalog.model import ModelCatalog\n",
    "from ads.common.model_artifact import ModelArtifact\n",
    "```\n",
    "</details>\n",
    "<details>\n",
    "<summary><font size=\"2\">Useful Environment Variables</font></summary>\n",
    "\n",
    "```python\n",
    "import os\n",
    "print(os.environ[\"NB_SESSION_COMPARTMENT_OCID\"])\n",
    "print(os.environ[\"PROJECT_OCID\"])\n",
    "print(os.environ[\"USER_OCID\"])\n",
    "print(os.environ[\"TENANCY_OCID\"])\n",
    "print(os.environ[\"NB_REGION\"])\n",
    "```\n",
    "</details>"
   ]
  },
  {
   "cell_type": "markdown",
   "id": "0f0cb595-d287-4890-984d-49a1929f0b43",
   "metadata": {},
   "source": [
    "### Inicialização"
   ]
  },
  {
   "cell_type": "code",
   "execution_count": 1,
   "id": "49f0b13d-1c90-4eec-83fe-8fe24087d42d",
   "metadata": {
    "tags": []
   },
   "outputs": [],
   "source": [
    "# Importa bibliotecas\n",
    "\n",
    "import oci\n",
    "import PIL\n",
    "import base64\n",
    "import matplotlib.pyplot as plt\n",
    "import numpy as np\n",
    "import json\n",
    "import ocifs\n",
    "import io\n",
    "import uuid\n",
    "import pandas as pd\n",
    "import requests\n",
    "import time\n",
    "from collections import defaultdict\n",
    "\n",
    "fs = ocifs.OCIFileSystem()"
   ]
  },
  {
   "cell_type": "code",
   "execution_count": 2,
   "id": "f5b59b93-df09-4d42-9f54-2223e2253d79",
   "metadata": {
    "tags": []
   },
   "outputs": [],
   "source": [
    "# Config autenticação\n",
    "\n",
    "CONFIG_PROFILE = \"DEFAULT\"\n",
    "config = oci.config.from_file('~/.oci/config', CONFIG_PROFILE)\n",
    "\n",
    "# Compartimento\n",
    "COMPARTMENT_ID = \"\" #AJUSTAR!\n",
    "\n",
    "# Nome do bucket e infos do object storage\n",
    "bucket_name = \"\" #AJUSTAR!\n",
    "namespace = \"\"\n",
    "\n",
    "object_storage_client = oci.object_storage.ObjectStorageClient(config)\n",
    "namespace = object_storage_client.get_namespace().data\n",
    "\n",
    "audio_list = object_storage_client.list_objects(namespace, bucket_name, prefix = \"ad\" ,fields=\"name\")"
   ]
  },
  {
   "cell_type": "markdown",
   "id": "d7ec422f-497a-455f-986d-e18a227739be",
   "metadata": {},
   "source": [
    "### Transcrição"
   ]
  },
  {
   "cell_type": "code",
   "execution_count": 4,
   "id": "bf86ada8-b484-4832-a941-e358cc7ceb7b",
   "metadata": {
    "tags": []
   },
   "outputs": [],
   "source": [
    "# Função que chama o OCI Speech\n",
    "\n",
    "ai_speech_client = oci.ai_speech.AIServiceSpeechClient(config)\n",
    "\n",
    "def speech_transcribe(audio):\n",
    "    create_transcription_job_response = ai_speech_client.create_transcription_job(\n",
    "    create_transcription_job_details=oci.ai_speech.models.CreateTranscriptionJobDetails(\n",
    "        compartment_id=COMPARTMENT_ID,\n",
    "        input_location=oci.ai_speech.models.ObjectListInlineInputLocation(\n",
    "            location_type=\"OBJECT_LIST_INLINE_INPUT_LOCATION\",\n",
    "            object_locations=[\n",
    "                oci.ai_speech.models.ObjectLocation(\n",
    "                    namespace_name=namespace,\n",
    "                    bucket_name=bucket_name,\n",
    "                    object_names=[audio])]),\n",
    "        output_location=oci.ai_speech.models.OutputLocation(\n",
    "            namespace_name=namespace,\n",
    "            bucket_name=bucket_name),\n",
    "        additional_transcription_formats=[\"SRT\"],\n",
    "        display_name = audio,\n",
    "        model_details=oci.ai_speech.models.TranscriptionModelDetails(\n",
    "            domain=\"GENERIC\",\n",
    "            language_code=\"pt-BR\",\n",
    "            transcription_settings=oci.ai_speech.models.TranscriptionSettings())))"
   ]
  },
  {
   "cell_type": "code",
   "execution_count": null,
   "id": "050fc488-1a10-420a-beae-159f80ee6302",
   "metadata": {
    "tags": []
   },
   "outputs": [],
   "source": [
    "# Transcrição de todos os audios na lista\n",
    "for audio in audio_list.data.objects:\n",
    "    print(audio.name)\n",
    "    speech_transcribe(audio.name)"
   ]
  },
  {
   "cell_type": "code",
   "execution_count": null,
   "id": "fa0e8efc-d6af-4d57-84df-e9d408406a90",
   "metadata": {
    "tags": []
   },
   "outputs": [],
   "source": [
    "list_transcription_jobs_response = ai_speech_client.list_transcription_jobs(\n",
    "    compartment_id=COMPARTMENT_ID)\n",
    "\n",
    "ct=0\n",
    "for i in list_transcription_jobs_response.data.items:\n",
    "    print(\"Job no. \",ct,\", date= \", list_transcription_jobs_response.data.items[ct].time_accepted,\n",
    "         \", Status = \", list_transcription_jobs_response.data.items[ct].lifecycle_state) \n",
    "    ct+=1"
   ]
  },
  {
   "cell_type": "code",
   "execution_count": 3,
   "id": "a6e0889e-6cd6-4ee4-adbe-83e2664992d1",
   "metadata": {
    "tags": []
   },
   "outputs": [],
   "source": [
    "transcription_json_list = object_storage_client.list_objects(namespace, bucket_name, prefix = \"job\" ,fields=\"name\")"
   ]
  },
  {
   "cell_type": "code",
   "execution_count": null,
   "id": "4b279315-b8bb-447d-afe6-20726f5386c2",
   "metadata": {
    "tags": []
   },
   "outputs": [],
   "source": [
    "transcription_json_list\n",
    "\n",
    "for jsonn in transcription_json_list.data.objects:\n",
    "    print(jsonn.name)"
   ]
  },
  {
   "cell_type": "code",
   "execution_count": 5,
   "id": "0448138e-40a0-42d5-81a7-2cdea0ad8c70",
   "metadata": {
    "tags": []
   },
   "outputs": [],
   "source": [
    "import json\n",
    "\n",
    "df = pd.DataFrame(columns=['id','transcription','sentiment','reason','bad word'])\n",
    "\n",
    "for jsonn in transcription_json_list.data.objects:\n",
    "    try:\n",
    "        get_object_response = object_storage_client.get_object(\n",
    "        namespace_name=namespace,\n",
    "        bucket_name=bucket_name,\n",
    "        http_response_content_type = 'text/plain',\n",
    "        object_name=jsonn.name)\n",
    "\n",
    "        data = json.loads(get_object_response.data.content)\n",
    "    \n",
    "        df_new_row = pd.DataFrame({'id': jsonn.name,\n",
    "                              'transcription': [data['transcriptions'][0]['transcription']]})\n",
    "    \n",
    "        df = pd.concat([df,df_new_row], ignore_index=True)\n",
    "        \n",
    "    except:\n",
    "        pass"
   ]
  },
  {
   "cell_type": "code",
   "execution_count": null,
   "id": "8d5a9b38-0ddc-4fd0-9dfa-7ccbf22109d3",
   "metadata": {},
   "outputs": [],
   "source": [
    "pd.set_option('display.max_columns', None)\n",
    "pd.set_option('display.max_rows', None)\n",
    "pd.set_option('display.max_colwidth', None)\n",
    "\n",
    "display(df)"
   ]
  },
  {
   "cell_type": "markdown",
   "id": "1b7b2a85-88ef-48a8-861e-84177e6bfbae",
   "metadata": {},
   "source": [
    "### Análise de Sentimento"
   ]
  },
  {
   "cell_type": "code",
   "execution_count": 7,
   "id": "e5c9bf61-4d73-4752-ae77-c045ace01535",
   "metadata": {
    "tags": []
   },
   "outputs": [],
   "source": [
    "def sentGenAI(transcription):\n",
    "\n",
    "    endpoint=\"https://inference.generativeai.sa-saopaulo-1.oci.oraclecloud.com\"\n",
    "    compartment_id=COMPARTMENT_ID\n",
    "    generative_ai_inference_client = oci.generative_ai_inference.GenerativeAiInferenceClient(config=config, service_endpoint=endpoint, retry_strategy=oci.retry.NoneRetryStrategy(), timeout=(10,240))\n",
    "    chat_detail = oci.generative_ai_inference.models.ChatDetails()\n",
    "\n",
    "    prompt = f\"\"\"\n",
    "    Você é responsável por avaliar o sentimento da transcrição que lhe será fornecida.\n",
    "    Você deve classificar o sentimento entre POSITIVO, NEUTRO ou NEGATIVO e deve, com poucas palavras, explicar a classificação atribuída.\n",
    "    Você deve identificar se a transcrição contem alguma palavra obscena ou grosseira e, em caso positivo deve retornar SIM ou em caso negativo retornar NÃO.\n",
    "\n",
    "    Sua resposta deve estar no seguinte formato:\n",
    "\n",
    "    SENTIMENTO: <Sentimento>\n",
    "    JUSTIFICATIVA: <Justificativa>\n",
    "    PALAVRÃO: <Palavrão>\n",
    "\n",
    "    Não adicione nenhuma informação e não use informações que não estejam disponíveis na transcrição.\n",
    "\n",
    "    {transcription}\n",
    "    \"\"\"\n",
    "\n",
    "    chat_request = oci.generative_ai_inference.models.CohereChatRequest()\n",
    "    chat_request.message = prompt\n",
    "    chat_request.max_tokens = 1000\n",
    "    chat_request.temperature = 0\n",
    "    chat_request.frequency_penalty = 0\n",
    "    chat_request.top_p = 0.75\n",
    "    chat_request.top_k = 0\n",
    "\n",
    "\n",
    "    chat_detail.serving_mode = oci.generative_ai_inference.models.OnDemandServingMode(model_id=\"\")\n",
    "    chat_detail.chat_request = chat_request\n",
    "    chat_detail.compartment_id = compartment_id\n",
    "    chat_response = generative_ai_inference_client.chat(chat_detail)\n",
    "    return chat_response"
   ]
  },
  {
   "cell_type": "code",
   "execution_count": 8,
   "id": "17ff3090-fec1-417c-9819-9f1b560b11b7",
   "metadata": {},
   "outputs": [],
   "source": [
    "def atualizar_dataframe_com_variaveis(chat_result, df, index):\n",
    "\n",
    "    chat_history = chat_result.data.chat_response.chat_history\n",
    "    \n",
    "    for chat in chat_history:\n",
    "        if chat.role == 'CHATBOT':\n",
    "            mensagem = chat.message\n",
    "            break\n",
    "    else:\n",
    "        return df\n",
    "\n",
    "    sentimento = None\n",
    "    justificativa = None\n",
    "    palavrao = None\n",
    "\n",
    "    for linha in mensagem.split('\\n'):\n",
    "        if linha.startswith(\"SENTIMENTO:\"):\n",
    "            sentimento = linha.split(\"SENTIMENTO:\")[1].strip()\n",
    "        elif linha.startswith(\"JUSTIFICATIVA:\"):\n",
    "            justificativa = linha.split(\"JUSTIFICATIVA:\")[1].strip()\n",
    "        elif linha.startswith(\"PALAVRÃO:\"):\n",
    "            palavrao = linha.split(\"PALAVRÃO:\")[1].strip()\n",
    "    \n",
    "    df.at[index, 'sentiment'] = sentimento\n",
    "    df.at[index, 'reason'] = justificativa\n",
    "    df.at[index, 'bad word'] = palavrao\n",
    "\n",
    "    return df"
   ]
  },
  {
   "cell_type": "code",
   "execution_count": 9,
   "id": "151b86b5-95ad-48e9-96b4-14a874023490",
   "metadata": {
    "tags": []
   },
   "outputs": [],
   "source": [
    "df2 = df\n",
    "\n",
    "for ind in df2.index:\n",
    "    transc = df2[\"transcription\"][ind]\n",
    "    sentiment = sentGenAI(transc)\n",
    "    sentiment_post = atualizar_dataframe_com_variaveis(sentiment, df2, ind)"
   ]
  },
  {
   "cell_type": "code",
   "execution_count": null,
   "id": "f082af09-817a-4b0f-b493-62fefd5512f2",
   "metadata": {
    "tags": []
   },
   "outputs": [],
   "source": [
    "display(df2)"
   ]
  },
  {
   "cell_type": "code",
   "execution_count": null,
   "id": "1b439c7a-a5be-45d5-b13d-8868072f9f3a",
   "metadata": {
    "tags": []
   },
   "outputs": [],
   "source": []
  },
  {
   "cell_type": "code",
   "execution_count": null,
   "id": "7a3ec11f-4a0e-4973-b35b-b8edd77f9df3",
   "metadata": {
    "tags": []
   },
   "outputs": [],
   "source": []
  },
  {
   "cell_type": "code",
   "execution_count": null,
   "id": "5699e123-0645-4fa6-bf40-a6b0761b5af3",
   "metadata": {},
   "outputs": [],
   "source": []
  }
 ],
 "metadata": {
  "kernelspec": {
   "display_name": "Python [conda env:pytorch21_p39_gpu_v1]",
   "language": "python",
   "name": "conda-env-pytorch21_p39_gpu_v1-py"
  },
  "language_info": {
   "codemirror_mode": {
    "name": "ipython",
    "version": 3
   },
   "file_extension": ".py",
   "mimetype": "text/x-python",
   "name": "python",
   "nbconvert_exporter": "python",
   "pygments_lexer": "ipython3",
   "version": "3.9.16"
  }
 },
 "nbformat": 4,
 "nbformat_minor": 5
}
